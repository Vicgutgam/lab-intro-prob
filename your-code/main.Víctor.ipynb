{
 "cells": [
  {
   "cell_type": "markdown",
   "metadata": {},
   "source": [
    "# Introduction To Probability\n",
    "## Challenge 1\n",
    "\n",
    "A and B are events of a probability space with $(\\omega, \\sigma, P)$ such that $P(A) = 0.3$, $P(B) = 0.6$ and $P(A \\cap B) = 0.1$\n",
    "\n",
    "Which of the following statements are false?\n",
    "* $P(A \\cup B) = 0.6$\n",
    "* $P(A \\cap B^{C}) = 0.2$\n",
    "* $P(A \\cap (B \\cup B^{C})) = 0.4$\n",
    "* $P(A^{C} \\cap B^{C}) = 0.3$\n",
    "* $P((A \\cap B)^{C}) = 0.9$"
   ]
  },
  {
   "cell_type": "markdown",
   "metadata": {},
   "source": [
    "\"\"\"La primera solución es la errónea, ya que el símbolo de unión que se representa incluye a los elementos que estan en ámbos elementos. Es decir 0,3+0,6-(0,1*2). Lo cual nos da un resultado de 0,7 \n",
    "\"\"\""
   ]
  },
  {
   "cell_type": "markdown",
   "metadata": {},
   "source": [
    "## Challenge 2\n",
    "There is a box with 10 white balls, 12 red balls and 8 black balls. Calculate the probability of:\n",
    "* Taking a white ball out.\n",
    "* Taking a white ball out after taking a black ball out.\n",
    "* Taking a red ball out after taking a black and a red ball out.\n",
    "* Taking a red ball out after taking a black and a red ball out with reposition.\n",
    "\n",
    "**Hint**: Reposition means putting back the ball into the box after taking it out."
   ]
  },
  {
   "cell_type": "code",
   "execution_count": 56,
   "metadata": {},
   "outputs": [],
   "source": [
    "import pandas as pd\n",
    "import numpy as np\n",
    "import seaborn as sns\n",
    "from scipy.stats import bernoulli\n",
    "import matplotlib.pyplot as plt"
   ]
  },
  {
   "cell_type": "code",
   "execution_count": 57,
   "metadata": {},
   "outputs": [],
   "source": [
    "rballs=12\n",
    "bballs=8\n",
    "wballs=10\n",
    "n=wballs+rballs+bballs\n",
    "wprob=10/n\n",
    "rprob=12/n\n",
    "bprob=8/n"
   ]
  },
  {
   "cell_type": "code",
   "execution_count": 71,
   "metadata": {},
   "outputs": [
    {
     "name": "stdout",
     "output_type": "stream",
     "text": [
      "La probabilidad de obtener una bola blanca es 0.3333333333333333\n",
      "La probabilidad de sacar una bola blanca después de una negra es: 0.08888888888888888\n",
      "Sacar una bola roja después de sacar una bola negra y una roja, tiene una probabilidad de: 0.04334975369458128\n",
      "Sacar una bola roja después de sacar una bola negra y una roja, y sin reposición tiene una probabilidad de: 0.04334975369458128\n"
     ]
    }
   ],
   "source": [
    "totpro=wprob*bprob\n",
    "totpro2=rprob*rprob*bprob\n",
    "bprob2=8/(n-1)\n",
    "rprob2=11/(n-2)\n",
    "totpro3=rprob*bprob2*rprob2\n",
    "print('La probabilidad de obtener una bola blanca es',wprob)\n",
    "print('La probabilidad de sacar una bola blanca después de una negra es:',totpro)\n",
    "print('Sacar una bola roja después de sacar una bola negra y una roja, tiene una probabilidad de:', totprob2)\n",
    "print('Sacar una bola roja después de sacar una bola negra y una roja, y sin reposición tiene una probabilidad de:', totpro3)\n"
   ]
  },
  {
   "cell_type": "code",
   "execution_count": 60,
   "metadata": {},
   "outputs": [],
   "source": [
    "rprob2=rprob\n",
    "bprob2=8/(n-1)\n",
    "rprob3=(rballs-1)/(n-2)\n",
    "totprob2=rprob*bprob2*rprob3"
   ]
  },
  {
   "cell_type": "markdown",
   "metadata": {},
   "source": [
    "## Challenge 3\n",
    "\n",
    "You are planning to go on a picnic today but the morning is cloudy. You hate rain so you don't know whether to go out or stay home! To help you make a decision, you gather the following data about rainy days:\n",
    "\n",
    "* Knowing that it is a rainy day, the probability of cloudy is 50%!\n",
    "* The probability of any day (rainy or not) starting off cloudy is 40%. \n",
    "* This month is usually dry so only 3 of 30 days (10%) tend to be rainy. \n",
    "\n",
    "What is the probability of rain, given the day started cloudy?"
   ]
  },
  {
   "cell_type": "code",
   "execution_count": 76,
   "metadata": {},
   "outputs": [
    {
     "name": "stdout",
     "output_type": "stream",
     "text": [
      "la probabilidad de lluvia estando nublado es de: 0.04000000000000001\n"
     ]
    }
   ],
   "source": [
    "prob_lluvia=0.1\n",
    "prob_nubes=0.4\n",
    "prob_lluvia_y_nubes=prob_nubes*prob_lluvia\n",
    "prob_sol=1-(prob_lluvia_sin_nubes)-prob_nubes\n",
    "print('la probabilidad de lluvia estando nublado es de:', prob_lluvia_y_nubes)"
   ]
  },
  {
   "cell_type": "markdown",
   "metadata": {},
   "source": [
    "## Challenge 4\n",
    "\n",
    "One thousand people were asked through a telephone survey whether they thought more street lighting is needed at night or not.\n",
    "\n",
    "Out of the 480 men that answered the survey, 324 said yes and 156 said no. On the other hand, out of the 520 women that answered, 351 said yes and 169 said no. \n",
    "\n",
    "We wonder if men and women have a different opinions about the street lighting matter. Is gender relevant or irrelevant to the question?\n",
    "\n",
    "Consider the following events:\n",
    "- The answer is yes, so the person that answered thinks that more street lighting is needed.\n",
    "- The person who answered is a man.\n",
    "\n",
    "We want to know if these events are independent, that is, if the fact of wanting more light depends on whether one is male or female. Are these events independent or not?\n",
    "\n",
    "**Hint**: To clearly compare the answers by gender, it is best to place the data in a table."
   ]
  },
  {
   "cell_type": "code",
   "execution_count": 37,
   "metadata": {},
   "outputs": [
    {
     "name": "stdout",
     "output_type": "stream",
     "text": [
      "el porncetanje de mujeres que quiere luz es de: 0.675 mientras que el de hombres es de: 0.675\n"
     ]
    }
   ],
   "source": [
    "# your code here\n",
    "n=1000\n",
    "hombres=480\n",
    "hombres_si=324\n",
    "hombres_no=156\n",
    "mujeres=520\n",
    "mujeres_si=351\n",
    "mujeres_no=169\n",
    "si=hombres_si+hombres_si\n",
    "no=mujeres_no+hombres_no\n",
    "prob_hom_si=324/480\n",
    "prob_muj_si=mujeres_si/mujeres\n",
    "encuesta={'respuesta':['si','no'],'femenino':[351,169],'masculino':[324,156]}\n",
    "df = pd.DataFrame(encuesta)\n",
    "print('el porncetanje de mujeres que quiere luz es de:', prob_muj_si, 'mientras que el de hombres es de:',prob_hom_si)"
   ]
  },
  {
   "cell_type": "code",
   "execution_count": 41,
   "metadata": {},
   "outputs": [
    {
     "data": {
      "text/html": [
       "<div>\n",
       "<style scoped>\n",
       "    .dataframe tbody tr th:only-of-type {\n",
       "        vertical-align: middle;\n",
       "    }\n",
       "\n",
       "    .dataframe tbody tr th {\n",
       "        vertical-align: top;\n",
       "    }\n",
       "\n",
       "    .dataframe thead th {\n",
       "        text-align: right;\n",
       "    }\n",
       "</style>\n",
       "<table border=\"1\" class=\"dataframe\">\n",
       "  <thead>\n",
       "    <tr style=\"text-align: right;\">\n",
       "      <th></th>\n",
       "      <th>respuesta</th>\n",
       "      <th>femenino</th>\n",
       "      <th>masculino</th>\n",
       "    </tr>\n",
       "  </thead>\n",
       "  <tbody>\n",
       "    <tr>\n",
       "      <th>0</th>\n",
       "      <td>si</td>\n",
       "      <td>351</td>\n",
       "      <td>324</td>\n",
       "    </tr>\n",
       "    <tr>\n",
       "      <th>1</th>\n",
       "      <td>no</td>\n",
       "      <td>169</td>\n",
       "      <td>156</td>\n",
       "    </tr>\n",
       "  </tbody>\n",
       "</table>\n",
       "</div>"
      ],
      "text/plain": [
       "  respuesta  femenino  masculino\n",
       "0        si       351        324\n",
       "1        no       169        156"
      ]
     },
     "execution_count": 41,
     "metadata": {},
     "output_type": "execute_result"
    }
   ],
   "source": [
    "df"
   ]
  },
  {
   "cell_type": "markdown",
   "metadata": {},
   "source": [
    "\"\"\"\n",
    "En terminos absolutos hay más mujeres que piden la existencia de alumbrado pero se debe a que la muestra representada tiene una mayor presencia de ellas. Ya que si comparamos el porcentaje de respuestas positivas respecto al total vemos que no hay diferencias entre géneros\n",
    "\"\"\""
   ]
  },
  {
   "cell_type": "code",
   "execution_count": null,
   "metadata": {},
   "outputs": [],
   "source": []
  }
 ],
 "metadata": {
  "kernelspec": {
   "display_name": "Python 3 (ipykernel)",
   "language": "python",
   "name": "python3"
  },
  "language_info": {
   "codemirror_mode": {
    "name": "ipython",
    "version": 3
   },
   "file_extension": ".py",
   "mimetype": "text/x-python",
   "name": "python",
   "nbconvert_exporter": "python",
   "pygments_lexer": "ipython3",
   "version": "3.11.5"
  }
 },
 "nbformat": 4,
 "nbformat_minor": 2
}
